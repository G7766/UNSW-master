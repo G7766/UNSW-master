{
 "cells": [
  {
   "cell_type": "markdown",
   "metadata": {},
   "source": [
    "<h1 align=\"center\">Health specific activity 1</h1>"
   ]
  },
  {
   "cell_type": "markdown",
   "metadata": {},
   "source": [
    "In this activity, we are going to analyse Aged care data, available at\n",
    "https://www.gen-agedcaredata.gov.au/Resources/Access-data/2017/August/GEN-Data-People-using-aged-care.\n",
    "The aim of this activity is to illustrate how we can use the fundamental Python builtin data structures (lists, sets, dictionaries), for the purpose of structuring information collected from data.\n",
    "\n",
    "The second set of data: *People using aged care services, 30 June 2013–2016 (CSV, 67.3 MB)* should be downloaded and saved in the directory where this jupyter notebook sheet is run."
   ]
  },
  {
   "cell_type": "markdown",
   "metadata": {},
   "source": [
    "Next week we will revisit this activity, introducing additional programming techniques and Python syntax, and in particular, providing details on reading data from csv files, possibly facing encoding issues, that we avoid here thanks to a function that we provide for you to use, together with another function that will prove useful at the end of this activity, without expecting you to understand how these two functions do their work. So just run the contents of the following cell. We leave it to next week to understand the code in this cell."
   ]
  },
  {
   "cell_type": "code",
   "execution_count": null,
   "metadata": {
    "collapsed": true
   },
   "outputs": [],
   "source": [
    "import csv\n",
    "\n",
    "def read_data_from_csv_file(csv_filename):\n",
    "    with open(csv_filename, encoding = 'Windows-1252') as csv_file:\n",
    "        return [record for record in csv.reader(csv_file)]\n",
    "\n",
    "def age_group_lower_bound(age_group):\n",
    "    lower_bound = 0\n",
    "    for c in age_group:\n",
    "        if not c.isdigit():\n",
    "            break\n",
    "        lower_bound = lower_bound * 10 + int(c)\n",
    "    return lower_bound"
   ]
  },
  {
   "cell_type": "markdown",
   "metadata": {},
   "source": [
    "Let us call the first function, providing as argument the name of the file that contains our data. As the file is very large, it takes a few seconds for the whole data to be read. When you run the contents of the following cell, you first see a star between the pair of square brackets, which means that computation is in progress. When computation is over, the star changes to a number $-$ 2 if it is the second time a cell is being executed."
   ]
  },
  {
   "cell_type": "code",
   "execution_count": null,
   "metadata": {
    "collapsed": true
   },
   "outputs": [],
   "source": [
    "aged_care_data = read_data_from_csv_file('People_2013to2016_GENdata.csv')"
   ]
  },
  {
   "cell_type": "markdown",
   "metadata": {},
   "source": [
    "*aged_care_data* is a list. We can find out how many elements it contains thanks to the **len** function:"
   ]
  },
  {
   "cell_type": "code",
   "execution_count": null,
   "metadata": {
    "collapsed": true
   },
   "outputs": [],
   "source": [
    "print(len(aged_care_data))"
   ]
  },
  {
   "cell_type": "markdown",
   "metadata": {},
   "source": [
    "More precisely, *aged_care_data* is a list of lists, as we can see when we examine *aged_care_data*'s elements. Let us start with the first one:"
   ]
  },
  {
   "cell_type": "code",
   "execution_count": null,
   "metadata": {
    "collapsed": true
   },
   "outputs": [],
   "source": [
    "print(aged_care_data[0])"
   ]
  },
  {
   "cell_type": "markdown",
   "metadata": {},
   "source": [
    "We see it is the list of names of all fields. We could count the number of fields manually, but a better way is to use **len** again:"
   ]
  },
  {
   "cell_type": "code",
   "execution_count": null,
   "metadata": {
    "collapsed": true
   },
   "outputs": [],
   "source": [
    "print(len(aged_care_data[0]))"
   ]
  },
  {
   "cell_type": "markdown",
   "metadata": {},
   "source": [
    "Let us now examine *aged_care_data*'s second element:"
   ]
  },
  {
   "cell_type": "code",
   "execution_count": null,
   "metadata": {
    "collapsed": true
   },
   "outputs": [],
   "source": [
    "print(aged_care_data[1])"
   ]
  },
  {
   "cell_type": "markdown",
   "metadata": {},
   "source": [
    "That is our first record, with 12 strings as values for the 12 associated fields. We see that the list of values for the first record contains 2 empty strings, for 2 missing values."
   ]
  },
  {
   "cell_type": "markdown",
   "metadata": {},
   "source": [
    "Let us examine *aged_care_data*'s second record (so its third element):"
   ]
  },
  {
   "cell_type": "code",
   "execution_count": null,
   "metadata": {
    "collapsed": true
   },
   "outputs": [],
   "source": [
    "print(aged_care_data[2])"
   ]
  },
  {
   "cell_type": "markdown",
   "metadata": {},
   "source": [
    "It is not too different to the first record. What about the last record? Of course, knowing thanks to **len** the number of elements in *aged_care_data*, we could get the index of the last record (the value returned by **len** applied to *aged_care_data* minus 1). But it is just simpler to index *aged_care_data*'s from the end rather than from the beginning, starting with -1 rather than with 0:"
   ]
  },
  {
   "cell_type": "code",
   "execution_count": null,
   "metadata": {
    "collapsed": true
   },
   "outputs": [],
   "source": [
    "print(aged_care_data[-1])"
   ]
  },
  {
   "cell_type": "markdown",
   "metadata": {},
   "source": [
    "We see that more values are missing for the last record. What about the penultimate record? When moving from left to right, list indexes increase by 1; when moving from right to left, list indices decrease by 1:"
   ]
  },
  {
   "cell_type": "code",
   "execution_count": null,
   "metadata": {
    "collapsed": true
   },
   "outputs": [],
   "source": [
    "print(aged_care_data[-2])"
   ]
  },
  {
   "cell_type": "markdown",
   "metadata": {},
   "source": [
    "No better than the last record in terms of missing values..."
   ]
  },
  {
   "cell_type": "markdown",
   "metadata": {},
   "source": [
    "Let us focus on the records for the year 2016: we want to create a list of all records for the year 2016, ignoring all other years. For that purpose, we create an empty list, *records_for_2016*, we go through all elements of *aged_care_data* thanks to a **for** loop, we test whether the first string of the list we are processing is '2016', and in case it is, we append the list of all other attributes to *records_for_2016* (we will write a better, more \"Pythonic\" version of this code next week):"
   ]
  },
  {
   "cell_type": "code",
   "execution_count": null,
   "metadata": {
    "collapsed": true
   },
   "outputs": [],
   "source": [
    "records_for_2016 = []\n",
    "for record in aged_care_data:\n",
    "    if record[0] == '2016':\n",
    "        records_for_2016.append(record[1: ])"
   ]
  },
  {
   "cell_type": "markdown",
   "metadata": {},
   "source": [
    "Note how we keep track of all fields except the first one using the syntax of slices. Here are a few examples of that syntax:"
   ]
  },
  {
   "cell_type": "code",
   "execution_count": null,
   "metadata": {
    "collapsed": true
   },
   "outputs": [],
   "source": [
    "record = aged_care_data[0]\n",
    "\n",
    "print(record)\n",
    "print(record[1: ]) # All elements starting from index 1 included\n",
    "print(record[2: ]) # All elements starting from index 2 included\n",
    "print(record[: -1]) # All elements up to index -1 excluded\n",
    "print(record[: -2]) # All elements up to index -2 excluded\n",
    "print(record[1: -2]) # All elements starting from index 1 included up to index -2 excluded"
   ]
  },
  {
   "cell_type": "markdown",
   "metadata": {},
   "source": [
    "We know how to find out how many elements we have in *records_for_2016*:"
   ]
  },
  {
   "cell_type": "code",
   "execution_count": null,
   "metadata": {
    "collapsed": true
   },
   "outputs": [],
   "source": [
    "print(len(records_for_2016))"
   ]
  },
  {
   "cell_type": "markdown",
   "metadata": {},
   "source": [
    "So a bit more than one record out of four in the whole dataset is for the year 2016."
   ]
  },
  {
   "cell_type": "markdown",
   "metadata": {},
   "source": [
    "Let us now organise the data for 2016, grouping them by state (the first field). For that purpose, we are going to build a dictionary, which will map each state to the list of records for that state (omitting the state from the records to avoid unnecessary redundancy, as we got rid of '2016' in all members of *records_for_2016*). Eventually, the dictionary should have as keys all strings that denote a state:"
   ]
  },
  {
   "cell_type": "code",
   "execution_count": null,
   "metadata": {
    "collapsed": true
   },
   "outputs": [],
   "source": [
    "records_per_state = {}\n",
    "for state, *other_fields in records_for_2016:\n",
    "    if state not in records_per_state:\n",
    "        records_per_state[state] = [other_fields]\n",
    "    else:\n",
    "        records_per_state[state].append(other_fields)"
   ]
  },
  {
   "cell_type": "markdown",
   "metadata": {},
   "source": [
    "There is a bit of mysterious syntax in the code we wrote. A few examples will do better than a long explanation and illuminate how the * symbol is used to indicate that \"all data there\" have to be collected together in a list:"
   ]
  },
  {
   "cell_type": "code",
   "execution_count": null,
   "metadata": {
    "collapsed": true
   },
   "outputs": [],
   "source": [
    "first_field, *last_fields = records_for_2016[0]\n",
    "print(records_for_2016[0])\n",
    "print(first_field)\n",
    "print(last_fields)"
   ]
  },
  {
   "cell_type": "code",
   "execution_count": null,
   "metadata": {
    "collapsed": true
   },
   "outputs": [],
   "source": [
    "*first_fields, second_to_last_field, last_field = records_for_2016[0]\n",
    "print(records_for_2016[0])\n",
    "print(first_fields)\n",
    "print(second_to_last_field)\n",
    "print(last_field)"
   ]
  },
  {
   "cell_type": "code",
   "execution_count": null,
   "metadata": {
    "collapsed": true
   },
   "outputs": [],
   "source": [
    "first_field, *middle_fields, second_to_last_field, last_field = records_for_2016[0]\n",
    "print(records_for_2016[0])\n",
    "print(first_field)\n",
    "print(middle_fields)\n",
    "print(second_to_last_field)\n",
    "print(last_field)"
   ]
  },
  {
   "cell_type": "markdown",
   "metadata": {},
   "source": [
    "Also note in the code that computes *records_per_state* how we create a list with only one record the first time we see a state, which becomes a new key in our dictionary, and how we append new records to that list when we process new records for that same state. (We will see a more elegant way to proceed next week.) Here is some extra code to illustrate:"
   ]
  },
  {
   "cell_type": "code",
   "execution_count": null,
   "metadata": {
    "collapsed": true
   },
   "outputs": [],
   "source": [
    "D = {}\n",
    "D['ACT'] = ['First record for ACT']\n",
    "print(D)\n",
    "D['ACT'].append('Second record for ACT')\n",
    "print(D)\n",
    "D['NSW'] = ['First record for NSW']\n",
    "print(D)\n",
    "D['ACT'].append('Third record for ACT')\n",
    "print(D)\n",
    "D['NSW'].append('Second record for NSW')\n",
    "print(D)\n",
    "D['SA'] = ['First record for SA']\n",
    "print(D)\n",
    "D['ACT'].append('Fourth record for ACT')\n",
    "print(D)\n",
    "D['SA'].append('Second record for SA')\n",
    "print(D)"
   ]
  },
  {
   "cell_type": "markdown",
   "metadata": {},
   "source": [
    "How many records do we get per state? The **print** statement in the code below **f**ormats the string between quotes by printing out *state*, then a tab, then *len(records_per_state[state])* with *state* ranging over all keys of our dictionary:"
   ]
  },
  {
   "cell_type": "code",
   "execution_count": null,
   "metadata": {
    "collapsed": true
   },
   "outputs": [],
   "source": [
    "for state in sorted(records_per_state):\n",
    "    print(f'{state}\\t{len(records_per_state[state])}')"
   ]
  },
  {
   "cell_type": "markdown",
   "metadata": {},
   "source": [
    "We see that besides all Australian states, there is \"blank\" state, for 2 records. We actually know what these two records are: the last two, for which the first three fields are empty strings."
   ]
  },
  {
   "cell_type": "markdown",
   "metadata": {},
   "source": [
    "The keys of a dictionary form a set, hence if we output them, they will be displayed in arbitrary order. Using the **sorted** function, we converted the set of all keys to the sorted list of all keys."
   ]
  },
  {
   "cell_type": "markdown",
   "metadata": {},
   "source": [
    "Let us organise the data for 2016 further, grouping them by state (the first field), and for each state, grouping them by gender (the fourth to last field). For that purpose, we are going to build a dictionary, which will map each state to a dictionary, which will map each gender to the list of records for that state and that gender (omitting the state and gender from the records to avoid unnecessary redundancy). Examination of the data reveals that the possible values for gender are 'M', 'F' and 'U' (we will improve the code and not make use of that \"knowledge\" when we revisit the code next week):"
   ]
  },
  {
   "cell_type": "code",
   "execution_count": null,
   "metadata": {
    "collapsed": true
   },
   "outputs": [],
   "source": [
    "gender_distribution_per_state = {}\n",
    "for state in records_per_state:\n",
    "    if state not in gender_distribution_per_state:\n",
    "        gender_distribution_per_state[state] = {'M': 0, 'F': 0, 'U': 0}\n",
    "    for *_, gender, _, _, _ in records_per_state[state]:\n",
    "        gender_distribution_per_state[state][gender] += 1\n",
    "    for gender in gender_distribution_per_state[state]:\n",
    "        gender_distribution_per_state[state][gender] /= len(records_per_state[state])"
   ]
  },
  {
   "cell_type": "markdown",
   "metadata": {},
   "source": [
    "Let us see the proportions across genders for each state:"
   ]
  },
  {
   "cell_type": "code",
   "execution_count": null,
   "metadata": {
    "collapsed": true
   },
   "outputs": [],
   "source": [
    "for state in sorted(gender_distribution_per_state):\n",
    "    print('State:', state)\n",
    "    for gender in sorted(gender_distribution_per_state[state]):\n",
    "        print(f'\\t{gender}: {gender_distribution_per_state[state][gender] * 100:.2f}%')"
   ]
  },
  {
   "cell_type": "markdown",
   "metadata": {},
   "source": [
    "Note how in *{gender_distribution_per_state[state][gender] &ast; 100:.2f}*, the proportions of a given gender in a given state, namely, *gender_distribution_per_state[state][gender]*, is multiplied by 100 and formatted as a **f**loating point number with **2** decimal digits after **.**."
   ]
  },
  {
   "cell_type": "markdown",
   "metadata": {},
   "source": [
    "Let us organise the data for 2016 even further, grouping them by state (the first field), and for each state, grouping them by age group (the second field), and for each age group, grouping them by gender (the fourth to last field). For that purpose, we are going to build a dictionary, which will map each state to a dictionary, which will map each age group to a dictionary, which will map each gender to the list of records for that state, that age group and that gender (omitting the state, the age group, and gender from the records for avoid unnecessary redundancy):"
   ]
  },
  {
   "cell_type": "code",
   "execution_count": null,
   "metadata": {
    "collapsed": true
   },
   "outputs": [],
   "source": [
    "# Creates the dictionary {'': None, 'ACT': None, 'NSW': None, 'NT': None, 'QLD': None,\n",
    "#                         'SA': None, 'TAS': None, 'VIC': None, 'WA': None\n",
    "#                        }\n",
    "gender_distribution_per_state_and_age_group = dict.fromkeys(records_per_state)\n",
    "# Changes the dictionary to {'': None, 'ACT': {}}, 'NSW': {}, 'NT': {}, 'QLD': {},\n",
    "#                            'SA': {}, 'TAS': {}, 'VIC': {}, 'WA': {}\n",
    "#                           }\n",
    "for state in gender_distribution_per_state_and_age_group:\n",
    "    gender_distribution_per_state_and_age_group[state] = {}\n",
    "for state in records_per_state:\n",
    "    for *_, age_group, gender, _, _, _ in records_per_state[state]:\n",
    "        if age_group not in gender_distribution_per_state_and_age_group[state]:\n",
    "            gender_distribution_per_state_and_age_group[state][age_group] = {'M': 0, 'F': 0, 'U': 0}\n",
    "        gender_distribution_per_state_and_age_group[state][age_group][gender] += 1\n",
    "    for age_group in gender_distribution_per_state_and_age_group[state]:\n",
    "        tally = sum(gender_distribution_per_state_and_age_group[state][age_group].values())\n",
    "        for gender in gender_distribution_per_state_and_age_group[state][age_group]:\n",
    "            gender_distribution_per_state_and_age_group[state][age_group][gender] /= tally"
   ]
  },
  {
   "cell_type": "markdown",
   "metadata": {},
   "source": [
    "Note how the number of records for a given state and age group (its tally) is computed. Here is some extra code to illustrate the use of **values** and **sum**:"
   ]
  },
  {
   "cell_type": "code",
   "execution_count": null,
   "metadata": {
    "collapsed": true
   },
   "outputs": [],
   "source": [
    "D = {'A': 10, 'B': 7, 'C': 23, 'D': 10}\n",
    "print(D.values())\n",
    "print(sum(D.values()))"
   ]
  },
  {
   "cell_type": "markdown",
   "metadata": {},
   "source": [
    "Let us see the proportions across genders for NSW, for each age group:"
   ]
  },
  {
   "cell_type": "code",
   "execution_count": null,
   "metadata": {
    "collapsed": true
   },
   "outputs": [],
   "source": [
    "for age_group in sorted(gender_distribution_per_state_and_age_group['NSW'], key = age_group_lower_bound):\n",
    "    print(f'\\t{age_group}:')\n",
    "    for gender in sorted(gender_distribution_per_state_and_age_group['NSW'][age_group]):\n",
    "        print(f'\\t\\t{gender}: {gender_distribution_per_state_and_age_group[\"NSW\"][age_group][gender] * 100:.2f}%')"
   ]
  },
  {
   "cell_type": "markdown",
   "metadata": {},
   "source": [
    "In the last code snippet, we used the second function we defined at the beginning. We will understand its purpose and how it works next week."
   ]
  }
 ],
 "metadata": {
  "kernelspec": {
   "display_name": "Python 3",
   "language": "python",
   "name": "python3"
  },
  "language_info": {
   "codemirror_mode": {
    "name": "ipython",
    "version": 3
   },
   "file_extension": ".py",
   "mimetype": "text/x-python",
   "name": "python",
   "nbconvert_exporter": "python",
   "pygments_lexer": "ipython3",
   "version": "3.6.1"
  }
 },
 "nbformat": 4,
 "nbformat_minor": 2
}
