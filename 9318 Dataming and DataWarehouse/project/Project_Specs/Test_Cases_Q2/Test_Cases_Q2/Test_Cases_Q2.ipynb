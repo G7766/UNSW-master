{
 "cells": [
  {
   "cell_type": "markdown",
   "metadata": {},
   "source": [
    "# Test Cases for Q2 (Extending Viterbi for top-k Parsing)"
   ]
  },
  {
   "cell_type": "code",
   "execution_count": 1,
   "metadata": {},
   "outputs": [
    {
     "ename": "ModuleNotFoundError",
     "evalue": "No module named 'submission'",
     "output_type": "error",
     "traceback": [
      "\u001b[0;31m---------------------------------------------------------------------------\u001b[0m",
      "\u001b[0;31mModuleNotFoundError\u001b[0m                       Traceback (most recent call last)",
      "\u001b[0;32m<ipython-input-1-72c2611d2eb0>\u001b[0m in \u001b[0;36m<module>\u001b[0;34m()\u001b[0m\n\u001b[0;32m----> 1\u001b[0;31m \u001b[0;32mimport\u001b[0m \u001b[0msubmission\u001b[0m \u001b[0;32mas\u001b[0m \u001b[0msubmission\u001b[0m\u001b[0;34m\u001b[0m\u001b[0m\n\u001b[0m\u001b[1;32m      2\u001b[0m \u001b[0;34m\u001b[0m\u001b[0m\n\u001b[1;32m      3\u001b[0m \u001b[0;31m# How we test your implementation for Q2\u001b[0m\u001b[0;34m\u001b[0m\u001b[0;34m\u001b[0m\u001b[0m\n\u001b[1;32m      4\u001b[0m \u001b[0;31m# Model Parameters...\u001b[0m\u001b[0;34m\u001b[0m\u001b[0;34m\u001b[0m\u001b[0m\n\u001b[1;32m      5\u001b[0m \u001b[0mState_File\u001b[0m \u001b[0;34m=\u001b[0m\u001b[0;34m'./toy_example/State_File'\u001b[0m\u001b[0;34m\u001b[0m\u001b[0m\n",
      "\u001b[0;31mModuleNotFoundError\u001b[0m: No module named 'submission'"
     ]
    }
   ],
   "source": [
    "import submission as submission\n",
    "\n",
    "# How we test your implementation for Q2\n",
    "# Model Parameters...\n",
    "State_File ='./toy_example/State_File'\n",
    "Symbol_File='./toy_example/Symbol_File'\n",
    "Query_File ='./toy_example/Query_File'"
   ]
  },
  {
   "cell_type": "code",
   "execution_count": 13,
   "metadata": {
    "scrolled": true
   },
   "outputs": [
    {
     "name": "stdout",
     "output_type": "stream",
     "text": [
      "[3, 0, 0, 1, 2, 4, -9.843403381747937]\n",
      "[3, 0, 0, 0, 2, 4, -10.131085454199718]\n",
      "[3, 2, 1, 2, 4, -9.397116279119517]\n",
      "[3, 0, 0, 2, 4, -9.551266958946776]\n"
     ]
    }
   ],
   "source": [
    "# Example output for k=2\n",
    "k = 2\n",
    "top_k_result = submission.top_k_viterbi(State_File, Symbol_File, Query_File, k)\n",
    "\n",
    "for row in top_k_result:\n",
    "    print(row)"
   ]
  },
  {
   "cell_type": "code",
   "execution_count": 14,
   "metadata": {},
   "outputs": [
    {
     "name": "stdout",
     "output_type": "stream",
     "text": [
      "[3, 0, 0, 1, 2, 4, -9.843403381747937]\n",
      "[3, 0, 0, 0, 2, 4, -10.131085454199718]\n",
      "[3, 0, 0, 0, 0, 4, -10.20007832568667]\n",
      "[3, 2, 1, 2, 4, -9.397116279119517]\n",
      "[3, 0, 0, 2, 4, -9.551266958946776]\n",
      "[3, 0, 1, 2, 4, -9.551266958946776]\n"
     ]
    }
   ],
   "source": [
    "# Example output for k=3\n",
    "k = 3\n",
    "top_k_result = submission.top_k_viterbi(State_File, Symbol_File, Query_File, k)\n",
    "\n",
    "for row in top_k_result:\n",
    "    print(row)"
   ]
  },
  {
   "cell_type": "code",
   "execution_count": 15,
   "metadata": {},
   "outputs": [
    {
     "name": "stdout",
     "output_type": "stream",
     "text": [
      "[3, 0, 0, 1, 2, 4, -9.843403381747937]\n",
      "[3, 0, 0, 0, 2, 4, -10.131085454199718]\n",
      "[3, 0, 0, 0, 0, 4, -10.20007832568667]\n",
      "[3, 1, 2, 1, 2, 4, -10.382399882480625]\n",
      "[3, 2, 1, 2, 4, -9.397116279119517]\n",
      "[3, 0, 0, 2, 4, -9.551266958946776]\n",
      "[3, 0, 1, 2, 4, -9.551266958946776]\n",
      "[3, 0, 0, 0, 4, -9.620259830433728]\n"
     ]
    }
   ],
   "source": [
    "# Example output for k=4\n",
    "k = 4\n",
    "top_k_result = submission.top_k_viterbi(State_File, Symbol_File, Query_File, k)\n",
    "\n",
    "for row in top_k_result:\n",
    "    print(row)"
   ]
  },
  {
   "cell_type": "code",
   "execution_count": null,
   "metadata": {
    "inputHidden": false,
    "outputHidden": false
   },
   "outputs": [],
   "source": []
  }
 ],
 "metadata": {
  "kernel_info": {
   "name": "python3"
  },
  "kernelspec": {
   "display_name": "Python 3",
   "language": "python",
   "name": "python3"
  },
  "language_info": {
   "codemirror_mode": {
    "name": "ipython",
    "version": 3
   },
   "file_extension": ".py",
   "mimetype": "text/x-python",
   "name": "python",
   "nbconvert_exporter": "python",
   "pygments_lexer": "ipython3",
   "version": "3.6.4"
  },
  "nteract": {
   "version": "0.12.3"
  }
 },
 "nbformat": 4,
 "nbformat_minor": 2
}
