{
 "cells": [
  {
   "cell_type": "markdown",
   "metadata": {},
   "source": [
    "# COMP9318 Lab2"
   ]
  },
  {
   "cell_type": "markdown",
   "metadata": {
    "collapsed": true
   },
   "source": [
    "## Instructions\n",
    "1. This note book contains instructions for **COMP9318-Lab2**.\n",
    "\n",
    "* You are required to complete your implementation in a file `submission.py` provided along with this notebook.\n",
    "\n",
    "* You are not allowed to print out unnecessary stuff. We will not consider any output printed out on the screen. All results should be returned in appropriate data structures return by corresponding functions.\n",
    "\n",
    "* You need to submit the code for **lab2** via following link: https://kg.cse.unsw.edu.au/submit/\n",
    "\n",
    "* For each question, we have provided you with detailed instructions along with question headings. In case of any problem, you can post your query @ Piazza.\n",
    "\n",
    "* If you choose to skip a question, leave the corresponding function body as it is (i.e., keep the `pass` line), otherwise it may affect your mark for other questions.\n",
    "\n",
    "* You are allowed to add other functions and/or import additional modules (you may have to in this lab), but you are not allowed to define global variables. **Only functions are allowed** in `submission.py`. \n",
    "\n",
    "* You should not import unnecessary modules/libraries, failing to import such modules at test time will lead to errors.\n",
    "\n",
    "* We will provide immediate feedback on your submission. You can access your scores using the online submission portal on the same day. \n",
    "\n",
    "* For **Final Evaluation** we will be using a different dataset, so your final scores may vary.  \n",
    "\n",
    "* You are allowed to submit as many times as you want before the deadline, but **ONLY the latest version will be kept and marked**.\n",
    "\n",
    "* Submission deadline for this assignment is **23:59:59 on 21st March, 2019**. We will **not** accept any late submissions."
   ]
  },
  {
   "cell_type": "markdown",
   "metadata": {},
   "source": [
    "# Question 1: Optimal binning algorithm using dynamic programming (100 points)"
   ]
  },
  {
   "cell_type": "code",
   "execution_count": 4,
   "metadata": {},
   "outputs": [],
   "source": [
    "# These are the only modules that you can use in lab2\n",
    "import pandas as pd\n",
    "import numpy as np"
   ]
  },
  {
   "cell_type": "markdown",
   "metadata": {},
   "source": [
    "In this lab, you need to implement the optimal binning algorithm using the dynamic programming algorithm we discussed in the lecture. You are only allowed to use $O(n^2)$ space. \n",
    "\n",
    "## Input\n",
    "\n",
    "The input contains data (in a list) and the number of bins (an integer).\n",
    "\n",
    "## Output\n",
    "\n",
    "You are required to output the binning result and the matrix computed by the algorithm.\n",
    "\n",
    "The matrix entries record optimal binning cost for a suffix of the input array using a certain number of bins. You should assign -1 to all the invalid solutions."
   ]
  },
  {
   "cell_type": "code",
   "execution_count": 37,
   "metadata": {},
   "outputs": [],
   "source": [
    "x=[3, 1, 18, 11, 13, 17]\n",
    "num_bins =4"
   ]
  },
  {
   "cell_type": "code",
   "execution_count": 43,
   "metadata": {},
   "outputs": [
    {
     "name": "stdout",
     "output_type": "stream",
     "text": [
      "[]\n",
      "[]\n",
      "[[13], [17]]\n",
      "[]\n",
      "[]\n",
      "[[11], [13], [17]]\n",
      "[]\n",
      "[]\n",
      "[[18], [11], [13], [17]]\n"
     ]
    }
   ],
   "source": [
    "def get_sse(l):\n",
    "    if len(l)==0:\n",
    "        return 0.0\n",
    "    # average of the list\n",
    "    average = np.average(l)\n",
    "    ll =[]\n",
    "    for i in l:\n",
    "        x = (i-average)*(i-average)\n",
    "        ll.append(x)\n",
    "    value = sum(ll)\n",
    "    return value\n",
    "\n",
    "def v_opt_dp(x, b):# do not change the heading of the function\n",
    "    #pass # **replace** this line with your code  \n",
    "    \n",
    "    #create matrix to record the cost matrix   \n",
    "    matrix = [[-1 for i in range(len(x))] for j in range(b)]\n",
    "    #record the binning path list\n",
    "    list_matrix = [[0 for i in range(len(x))] for j in range(b)]\n",
    "    #record the best result\n",
    "    best_matrix_list = [[0 for i in range(len(x))] for j in range(b)]\n",
    "    #print(matrix)\n",
    "    for i in range(1,b+1):\n",
    "        for j in range(len(x)):\n",
    "            # the number of left bins should less than the number of previous element\n",
    "            # && the number of right bins should less than the number of element rest\n",
    "            if (b-i)<=j and i<=(len(x)-j):\n",
    "                curr_list = x[j:]\n",
    "                curr_bin = i\n",
    "                #record first cost\n",
    "                if i == 1:\n",
    "                    cost = get_sse(curr_list)\n",
    "                    matrix[i-1][j] = cost\n",
    "                    list_matrix[i-1][j] = [curr_list]\n",
    "                    best_matrix_list[i-1][j] = [curr_list]\n",
    "                else:\n",
    "                    currcostL = []\n",
    "                    pathL = []\n",
    "                    if len(curr_list) == i:\n",
    "                        min_cost = 0\n",
    "                        for e in curr_list:\n",
    "                            pathL.append([e])\n",
    "                    #print(pathL)\n",
    "                    else:\n",
    "                        for h in range(1,len(curr_list)-i+2):\n",
    "                            prefix = curr_list[:h]\n",
    "                            suffix = curr_list[h:]\n",
    "                            pre_cost = get_sse(prefix)\n",
    "                            # serch the previous result as index\n",
    "                            index = list_matrix[i-2].index([suffix])\n",
    "                            print('index:',index)\n",
    "                            suf_path = best_matrix_list[i-2][index]\n",
    "                            suf_cost = matrix[i-1][index]\n",
    "                            \n",
    "                            cost = pre_cost + suf_cost\n",
    "                            currcostL.append(cost)\n",
    "                            print('currcostL:',currcostL)\n",
    "                            \n",
    "                            curr_path = []\n",
    "                            curr_path.append(prefix)\n",
    "                            for m in suf_path:\n",
    "                                curr_path.append(m)\n",
    "                            print('curr_path:',curr_path)\n",
    "                            pathL.append(curr_path)\n",
    "                        #select the best result(min cost) to put in the matrix\n",
    "                        min_cost = min(currcostL)\n",
    "                        # put the min cost list into the best_matrix_list\n",
    "                        min_cost_index = currcostL.index(min_cost)\n",
    "                        pathL = pathL[min_cost_index]\n",
    "                    best_matrix_list[i-1][j] = pathL\n",
    "                    matrix[i-1][j] = min_cost\n",
    "                    list_matrix[i-1][j] = [curr_list]\n",
    "                            \n",
    "                    \n",
    "                    \n",
    "    \n",
    "v_opt_dp(x,num_bins)"
   ]
  },
  {
   "cell_type": "code",
   "execution_count": 23,
   "metadata": {},
   "outputs": [],
   "source": [
    "x = [3, 1, 18, 11, 13, 17]\n",
    "num_bins = 4"
   ]
  },
  {
   "cell_type": "code",
   "execution_count": 4,
   "metadata": {},
   "outputs": [
    {
     "name": "stdout",
     "output_type": "stream",
     "text": [
      "Bins = [[3, 1], [18], [11, 13], [17]]\n",
      "Matrix =\n",
      "[-1, -1, -1, 18.666666666666664, 8.0, 0]\n",
      "[-1, -1, 18.666666666666664, 2.0, 0, -1]\n",
      "[-1, 18.666666666666664, 2.0, 0, -1, -1]\n",
      "[4.0, 2.0, 0, -1, -1, -1]\n"
     ]
    }
   ],
   "source": [
    "## You can test your implementation using the following code...\n",
    "\n",
    "import submission as submission\n",
    "matrix, bins = submission.v_opt_dp(x, num_bins)\n",
    "print(\"Bins = {}\".format(bins))\n",
    "print(\"Matrix =\")\n",
    "for row in matrix:\n",
    "    print(row)"
   ]
  },
  {
   "cell_type": "code",
   "execution_count": null,
   "metadata": {},
   "outputs": [],
   "source": []
  },
  {
   "cell_type": "code",
   "execution_count": null,
   "metadata": {
    "collapsed": true
   },
   "outputs": [],
   "source": []
  }
 ],
 "metadata": {
  "kernelspec": {
   "display_name": "Python 3",
   "language": "python",
   "name": "python3"
  },
  "language_info": {
   "codemirror_mode": {
    "name": "ipython",
    "version": 3
   },
   "file_extension": ".py",
   "mimetype": "text/x-python",
   "name": "python",
   "nbconvert_exporter": "python",
   "pygments_lexer": "ipython3",
   "version": "3.6.4"
  }
 },
 "nbformat": 4,
 "nbformat_minor": 1
}
